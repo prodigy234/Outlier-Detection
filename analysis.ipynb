{
 "cells": [
  {
   "cell_type": "code",
   "execution_count": 2,
   "metadata": {},
   "outputs": [],
   "source": [
    "import pandas as pd\n",
    "import numpy as np\n",
    "import matplotlib.pyplot as plt\n",
    "import seaborn as sns"
   ]
  },
  {
   "cell_type": "markdown",
   "metadata": {},
   "source": [
    "pandas: Used for data manipulation and analysis, particularly for working with structured data in the form of DataFrames.\n",
    "numpy: Provides support for mathematical operations, particularly those involving arrays and numerical computations.\n",
    "matplotlib.pyplot and seaborn: Libraries for visualizing data. Seaborn is built on top of Matplotlib and provides a high-level interface for attractive visualizations."
   ]
  },
  {
   "cell_type": "code",
   "execution_count": 3,
   "metadata": {},
   "outputs": [],
   "source": [
    "# Load the dataset\n",
    "file_path = 'student_participation_feedback_dataset.csv'\n",
    "data = pd.read_csv(file_path)"
   ]
  },
  {
   "cell_type": "markdown",
   "metadata": {},
   "source": [
    "The file path is specified, and the dataset is loaded into a DataFrame using pd.read_csv()."
   ]
  },
  {
   "cell_type": "code",
   "execution_count": 4,
   "metadata": {},
   "outputs": [
    {
     "name": "stdout",
     "output_type": "stream",
     "text": [
      "Dataset Overview:\n",
      "<class 'pandas.core.frame.DataFrame'>\n",
      "RangeIndex: 200 entries, 0 to 199\n",
      "Data columns (total 11 columns):\n",
      " #   Column                      Non-Null Count  Dtype \n",
      "---  ------                      --------------  ----- \n",
      " 0   student_id                  200 non-null    int64 \n",
      " 1   interaction_duration (min)  200 non-null    int64 \n",
      " 2   feedback_rating (1-5)       200 non-null    int64 \n",
      " 3   assignments_completed       200 non-null    int64 \n",
      " 4   total_interactions          200 non-null    int64 \n",
      " 5   quiz_score (%)              200 non-null    int64 \n",
      " 6   final_grade                 200 non-null    object\n",
      " 7   engagement_score            200 non-null    int64 \n",
      " 8   age                         200 non-null    int64 \n",
      " 9   learning_style              200 non-null    object\n",
      " 10  participation_label         200 non-null    object\n",
      "dtypes: int64(8), object(3)\n",
      "memory usage: 17.3+ KB\n",
      "None\n"
     ]
    }
   ],
   "source": [
    "# Inspect the dataset\n",
    "print(\"Dataset Overview:\")\n",
    "print(data.info())"
   ]
  },
  {
   "cell_type": "markdown",
   "metadata": {},
   "source": [
    "Displays the structure of the dataset, including column names, data types, and non-null counts. This is useful for understanding the dataset's structure and spotting missing values."
   ]
  },
  {
   "cell_type": "code",
   "execution_count": 5,
   "metadata": {},
   "outputs": [
    {
     "name": "stdout",
     "output_type": "stream",
     "text": [
      "\n",
      "Numeric Columns: Index(['student_id', 'interaction_duration (min)', 'feedback_rating (1-5)',\n",
      "       'assignments_completed', 'total_interactions', 'quiz_score (%)',\n",
      "       'engagement_score', 'age'],\n",
      "      dtype='object')\n"
     ]
    }
   ],
   "source": [
    "# Select numeric columns for analysis\n",
    "numeric_columns = data.select_dtypes(include=[np.number]).columns\n",
    "print(\"\\nNumeric Columns:\", numeric_columns)\n"
   ]
  },
  {
   "cell_type": "markdown",
   "metadata": {},
   "source": [
    "Extracts all numeric columns (e.g., integers, floats) using select_dtypes(include=[np.number]).\n",
    "columns retrieves the column names for further processing.\n",
    "Prints the numeric columns for reference."
   ]
  },
  {
   "cell_type": "code",
   "execution_count": 6,
   "metadata": {},
   "outputs": [],
   "source": [
    "# Define functions for outlier detection\n",
    "\n",
    "def detect_outliers_zscore(df, column, threshold=3):\n",
    "    z_scores = (df[column] - df[column].mean()) / df[column].std()\n",
    "    return df[np.abs(z_scores) > threshold]\n",
    "\n",
    "def detect_outliers_iqr(df, column):\n",
    "    Q1 = df[column].quantile(0.25)\n",
    "    Q3 = df[column].quantile(0.75)\n",
    "    IQR = Q3 - Q1\n",
    "    lower_bound = Q1 - 1.5 * IQR\n",
    "    upper_bound = Q3 + 1.5 * IQR\n",
    "    return df[(df[column] < lower_bound) | (df[column] > upper_bound)]\n"
   ]
  },
  {
   "cell_type": "markdown",
   "metadata": {},
   "source": [
    "Z-score Method\n",
    "Z-score:\n",
    "Measures how far a value is from the mean in terms of standard deviations.\n",
    "Formula: \n",
    "𝑍\n",
    "=\n",
    "𝑥\n",
    "−\n",
    "𝜇\n",
    "𝜎\n",
    "Z= \n",
    "σ\n",
    "x−μ\n",
    "​\n",
    " , where:\n",
    "𝑥\n",
    "x = data point\n",
    "𝜇\n",
    "μ = mean of the column\n",
    "𝜎\n",
    "σ = standard deviation of the column\n",
    "Threshold:\n",
    "Any Z-score above or below a certain threshold (default = 3) is flagged as an outlier.\n",
    "Filter:\n",
    "Values with \n",
    "∣\n",
    "𝑍\n",
    "∣\n",
    ">\n",
    "3\n",
    "∣Z∣>3 are retained and returned as outliers."
   ]
  },
  {
   "cell_type": "markdown",
   "metadata": {},
   "source": [
    "IQR Method\n",
    "\n",
    "Quartiles:\n",
    "𝑄\n",
    "1\n",
    "Q1: First quartile (25th percentile).\n",
    "𝑄\n",
    "3\n",
    "Q3: Third quartile (75th percentile).\n",
    "IQR:\n",
    "Interquartile range = \n",
    "𝑄\n",
    "3\n",
    "−\n",
    "𝑄\n",
    "1\n",
    "Q3−Q1.\n",
    "Bounds:\n",
    "Lower bound = \n",
    "𝑄\n",
    "1\n",
    "−\n",
    "1.5\n",
    "×\n",
    "IQR\n",
    "Q1−1.5×IQR.\n",
    "Upper bound = \n",
    "𝑄\n",
    "3\n",
    "+\n",
    "1.5\n",
    "×\n",
    "IQR\n",
    "Q3+1.5×IQR.\n",
    "Filter:\n",
    "Any value below the lower bound or above the upper bound is flagged as an outlier."
   ]
  },
  {
   "cell_type": "code",
   "execution_count": 7,
   "metadata": {},
   "outputs": [
    {
     "name": "stdout",
     "output_type": "stream",
     "text": [
      "\n",
      "Analyzing column: student_id\n",
      "\n",
      "Analyzing column: interaction_duration (min)\n",
      "\n",
      "Analyzing column: feedback_rating (1-5)\n",
      "\n",
      "Analyzing column: assignments_completed\n",
      "\n",
      "Analyzing column: total_interactions\n",
      "\n",
      "Analyzing column: quiz_score (%)\n",
      "\n",
      "Analyzing column: engagement_score\n",
      "\n",
      "Analyzing column: age\n"
     ]
    }
   ],
   "source": [
    "# Apply outlier detection methods\n",
    "outlier_summary = {}\n",
    "\n",
    "for column in numeric_columns:\n",
    "    print(f\"\\nAnalyzing column: {column}\")\n",
    "    zscore_outliers = detect_outliers_zscore(data, column)\n",
    "    iqr_outliers = detect_outliers_iqr(data, column)\n",
    "\n",
    "    outlier_summary[column] = {\n",
    "        \"Z-score Outliers\": zscore_outliers.shape[0],\n",
    "        \"IQR Outliers\": iqr_outliers.shape[0]\n",
    "    }\n"
   ]
  },
  {
   "cell_type": "markdown",
   "metadata": {},
   "source": [
    "Analyze Each Numeric Column\n",
    "\n",
    "python code\n",
    "outlier_summary = {}\n",
    "\n",
    "An empty dictionary to store the number of outliers for each column using both methods."
   ]
  },
  {
   "cell_type": "markdown",
   "metadata": {},
   "source": [
    "Loop Through Numeric Columns\n",
    "\n",
    "Iterates through each numeric column:\n",
    "Logs the column being analyzed.\n",
    "Detects Z-score outliers using detect_outliers_zscore.\n",
    "Detects IQR outliers using detect_outliers_iqr.\n",
    "Stores the count of outliers for both methods in the outlier_summary dictionary."
   ]
  },
  {
   "cell_type": "code",
   "execution_count": 9,
   "metadata": {},
   "outputs": [
    {
     "data": {
      "image/png": "[encoded data removed]",
      "text/plain": [
       "<Figure size 1000x600 with 1 Axes>"
      ]
     },
     "metadata": {},
     "output_type": "display_data"
    }
   ],
   "source": [
    "# Visualize outliers\n",
    "plt.figure(figsize=(10, 6))\n",
    "sns.boxplot(x=data[column])\n",
    "plt.title(f\"Boxplot of {column}\")\n",
    "plt.show()"
   ]
  },
  {
   "cell_type": "markdown",
   "metadata": {},
   "source": [
    "Boxplot: Visual representation of data distribution and outliers.\n",
    "The box represents the IQR.\n",
    "Whiskers extend to 1.5 times the IQR.\n",
    "Points outside the whiskers are outliers."
   ]
  },
  {
   "cell_type": "code",
   "execution_count": 10,
   "metadata": {},
   "outputs": [
    {
     "name": "stdout",
     "output_type": "stream",
     "text": [
      "\n",
      "Outlier Summary:\n",
      "                            Z-score Outliers  IQR Outliers\n",
      "student_id                                 0             0\n",
      "interaction_duration (min)                 0             0\n",
      "feedback_rating (1-5)                      0             0\n",
      "assignments_completed                      0             0\n",
      "total_interactions                         0             0\n",
      "quiz_score (%)                             0             0\n",
      "engagement_score                           0             0\n",
      "age                                        0             0\n"
     ]
    }
   ],
   "source": [
    "# Display summary of outliers\n",
    "outlier_summary_df = pd.DataFrame(outlier_summary).T\n",
    "print(\"\\nOutlier Summary:\")\n",
    "print(outlier_summary_df)"
   ]
  },
  {
   "cell_type": "markdown",
   "metadata": {},
   "source": [
    "Converts the outlier_summary dictionary into a DataFrame for easier viewing.\n",
    "Transposes (T) the DataFrame to make columns the index and methods the columns.\n",
    "Prints the summary showing the count of Z-score and IQR outliers for each variable."
   ]
  },
  {
   "cell_type": "code",
   "execution_count": 13,
   "metadata": {},
   "outputs": [
    {
     "name": "stdout",
     "output_type": "stream",
     "text": [
      "\n",
      "Outlier summary saved to: outlier_summary.csv\n"
     ]
    }
   ],
   "source": [
    "# Save the outlier summary for further investigation\n",
    "output_path = 'outlier_summary.csv'\n",
    "outlier_summary_df.to_csv(output_path)\n",
    "print(f\"\\nOutlier summary saved to: {output_path}\")\n"
   ]
  },
  {
   "cell_type": "code",
   "execution_count": 16,
   "metadata": {},
   "outputs": [
    {
     "data": {
      "text/html": [
       "<div>\n",
       "<style scoped>\n",
       "    .dataframe tbody tr th:only-of-type {\n",
       "        vertical-align: middle;\n",
       "    }\n",
       "\n",
       "    .dataframe tbody tr th {\n",
       "        vertical-align: top;\n",
       "    }\n",
       "\n",
       "    .dataframe thead th {\n",
       "        text-align: right;\n",
       "    }\n",
       "</style>\n",
       "<table border=\"1\" class=\"dataframe\">\n",
       "  <thead>\n",
       "    <tr style=\"text-align: right;\">\n",
       "      <th></th>\n",
       "      <th>Unnamed: 0</th>\n",
       "      <th>Z-score Outliers</th>\n",
       "      <th>IQR Outliers</th>\n",
       "    </tr>\n",
       "  </thead>\n",
       "  <tbody>\n",
       "    <tr>\n",
       "      <th>0</th>\n",
       "      <td>student_id</td>\n",
       "      <td>0</td>\n",
       "      <td>0</td>\n",
       "    </tr>\n",
       "    <tr>\n",
       "      <th>1</th>\n",
       "      <td>interaction_duration (min)</td>\n",
       "      <td>0</td>\n",
       "      <td>0</td>\n",
       "    </tr>\n",
       "    <tr>\n",
       "      <th>2</th>\n",
       "      <td>feedback_rating (1-5)</td>\n",
       "      <td>0</td>\n",
       "      <td>0</td>\n",
       "    </tr>\n",
       "    <tr>\n",
       "      <th>3</th>\n",
       "      <td>assignments_completed</td>\n",
       "      <td>0</td>\n",
       "      <td>0</td>\n",
       "    </tr>\n",
       "    <tr>\n",
       "      <th>4</th>\n",
       "      <td>total_interactions</td>\n",
       "      <td>0</td>\n",
       "      <td>0</td>\n",
       "    </tr>\n",
       "  </tbody>\n",
       "</table>\n",
       "</div>"
      ],
      "text/plain": [
       "                   Unnamed: 0  Z-score Outliers  IQR Outliers\n",
       "0                  student_id                 0             0\n",
       "1  interaction_duration (min)                 0             0\n",
       "2       feedback_rating (1-5)                 0             0\n",
       "3       assignments_completed                 0             0\n",
       "4          total_interactions                 0             0"
      ]
     },
     "execution_count": 16,
     "metadata": {},
     "output_type": "execute_result"
    }
   ],
   "source": [
    "\n",
    "data1 = pd.read_csv(output_path)\n",
    "data1.head()"
   ]
  }
 ],
 "metadata": {
  "kernelspec": {
   "display_name": "Python 3",
   "language": "python",
   "name": "python3"
  },
  "language_info": {
   "codemirror_mode": {
    "name": "ipython",
    "version": 3
   },
   "file_extension": ".py",
   "mimetype": "text/x-python",
   "name": "python",
   "nbconvert_exporter": "python",
   "pygments_lexer": "ipython3",
   "version": "3.8.0"
  }
 },
 "nbformat": 4,
 "nbformat_minor": 2
}
